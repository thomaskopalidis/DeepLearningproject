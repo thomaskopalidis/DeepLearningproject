{
  "nbformat": 4,
  "nbformat_minor": 0,
  "metadata": {
    "colab": {
      "provenance": [],
      "authorship_tag": "ABX9TyOU1XO3zi88W0RGMJwQzU+b",
      "include_colab_link": true
    },
    "kernelspec": {
      "name": "python3",
      "display_name": "Python 3"
    },
    "language_info": {
      "name": "python"
    }
  },
  "cells": [
    {
      "cell_type": "markdown",
      "metadata": {
        "id": "view-in-github",
        "colab_type": "text"
      },
      "source": [
        "<a href=\"https://colab.research.google.com/github/thomaskopalidis/DeepLearningproject/blob/main/Alzheimer_MRI_pytorch.ipynb\" target=\"_parent\"><img src=\"https://colab.research.google.com/assets/colab-badge.svg\" alt=\"Open In Colab\"/></a>"
      ]
    },
    {
      "cell_type": "markdown",
      "source": [
        "\n",
        "Alzheimer MRI Disease Classification\n",
        "\n",
        "This notebook is my first time using PyTorch, I usually work with TensorFlow. Therefore, it should serve as a nice resource for those of you just starting with deep learning or PyTorch.\n",
        "\n",
        "The aim of this task is to classify if a patient, and if so to what degree, has Alzheimers disease using an MRI scan of the patient brain. In total we are predicting one of four classes those being:\n",
        "\n",
        "*   Non demented\n",
        "*   Very midly demented\n",
        "*   Mildly demented\n",
        "*   Moderately demented\n",
        "\n",
        "\n",
        "\n",
        "\n",
        "\n",
        "\n"
      ],
      "metadata": {
        "id": "mF90tLyW4dWu"
      }
    },
    {
      "cell_type": "code",
      "execution_count": null,
      "metadata": {
        "id": "gzIfcfUp4X4R"
      },
      "outputs": [],
      "source": []
    }
  ]
}